{
  "cells": [
    {
      "cell_type": "code",
      "execution_count": 2,
      "metadata": {
        "colab": {
          "base_uri": "https://localhost:8080/"
        },
        "id": "gdabLDoEsOXF",
        "outputId": "11a2a5ed-7a04-4106-bd1e-592be8a3b6db"
      },
      "outputs": [
        {
          "name": "stderr",
          "output_type": "stream",
          "text": [
            "<ipython-input-2-09dcf16624d2>:2: FutureWarning: You are using `torch.load` with `weights_only=False` (the current default value), which uses the default pickle module implicitly. It is possible to construct malicious pickle data which will execute arbitrary code during unpickling (See https://github.com/pytorch/pytorch/blob/main/SECURITY.md#untrusted-models for more details). In a future release, the default value for `weights_only` will be flipped to `True`. This limits the functions that could be executed during unpickling. Arbitrary objects will no longer be allowed to be loaded via this mode unless they are explicitly allowlisted by the user via `torch.serialization.add_safe_globals`. We recommend you start setting `weights_only=True` for any use case where you don't have full control of the loaded file. Please open an issue on GitHub for any issues related to this experimental feature.\n",
            "  state_dict = torch.load('mlp_model_weights.pth')\n"
          ]
        }
      ],
      "source": [
        "import torch\n",
        "state_dict = torch.load('mlp_model_weights.pth')\n"
      ]
    },
    {
      "cell_type": "code",
      "execution_count": 10,
      "metadata": {
        "id": "JFPYcDL-sbJj"
      },
      "outputs": [],
      "source": [
        "def relu(x):\n",
        "    return torch.max(torch.zeros_like(x), x)"
      ]
    },
    {
      "cell_type": "code",
      "execution_count": 15,
      "metadata": {
        "id": "iOvjbSMssgO2"
      },
      "outputs": [],
      "source": [
        "def MyModel(x):\n",
        "    x = x.view(-1, 28 * 28)\n",
        "    x = relu(x @ state_dict['fc1.weight'].T + state_dict['fc1.bias'])\n",
        "    x = x @ state_dict['fc2.weight'].T + state_dict['fc2.bias']\n",
        "    return x\n"
      ]
    },
    {
      "cell_type": "code",
      "execution_count": 5,
      "metadata": {
        "colab": {
          "base_uri": "https://localhost:8080/"
        },
        "id": "1tk671l4ssl7",
        "outputId": "ee98aa3b-60b7-4227-df81-b6076978b66a"
      },
      "outputs": [
        {
          "name": "stdout",
          "output_type": "stream",
          "text": [
            "Downloading http://fashion-mnist.s3-website.eu-central-1.amazonaws.com/train-images-idx3-ubyte.gz\n",
            "Downloading http://fashion-mnist.s3-website.eu-central-1.amazonaws.com/train-images-idx3-ubyte.gz to data/FashionMNIST/raw/train-images-idx3-ubyte.gz\n"
          ]
        },
        {
          "name": "stderr",
          "output_type": "stream",
          "text": [
            "100%|██████████| 26.4M/26.4M [00:01<00:00, 15.5MB/s]\n"
          ]
        },
        {
          "name": "stdout",
          "output_type": "stream",
          "text": [
            "Extracting data/FashionMNIST/raw/train-images-idx3-ubyte.gz to data/FashionMNIST/raw\n",
            "\n",
            "Downloading http://fashion-mnist.s3-website.eu-central-1.amazonaws.com/train-labels-idx1-ubyte.gz\n",
            "Downloading http://fashion-mnist.s3-website.eu-central-1.amazonaws.com/train-labels-idx1-ubyte.gz to data/FashionMNIST/raw/train-labels-idx1-ubyte.gz\n"
          ]
        },
        {
          "name": "stderr",
          "output_type": "stream",
          "text": [
            "100%|██████████| 29.5k/29.5k [00:00<00:00, 340kB/s]\n"
          ]
        },
        {
          "name": "stdout",
          "output_type": "stream",
          "text": [
            "Extracting data/FashionMNIST/raw/train-labels-idx1-ubyte.gz to data/FashionMNIST/raw\n",
            "\n",
            "Downloading http://fashion-mnist.s3-website.eu-central-1.amazonaws.com/t10k-images-idx3-ubyte.gz\n",
            "Downloading http://fashion-mnist.s3-website.eu-central-1.amazonaws.com/t10k-images-idx3-ubyte.gz to data/FashionMNIST/raw/t10k-images-idx3-ubyte.gz\n"
          ]
        },
        {
          "name": "stderr",
          "output_type": "stream",
          "text": [
            "100%|██████████| 4.42M/4.42M [00:00<00:00, 6.15MB/s]\n"
          ]
        },
        {
          "name": "stdout",
          "output_type": "stream",
          "text": [
            "Extracting data/FashionMNIST/raw/t10k-images-idx3-ubyte.gz to data/FashionMNIST/raw\n",
            "\n",
            "Downloading http://fashion-mnist.s3-website.eu-central-1.amazonaws.com/t10k-labels-idx1-ubyte.gz\n",
            "Downloading http://fashion-mnist.s3-website.eu-central-1.amazonaws.com/t10k-labels-idx1-ubyte.gz to data/FashionMNIST/raw/t10k-labels-idx1-ubyte.gz\n"
          ]
        },
        {
          "name": "stderr",
          "output_type": "stream",
          "text": [
            "100%|██████████| 5.15k/5.15k [00:00<00:00, 10.9MB/s]"
          ]
        },
        {
          "name": "stdout",
          "output_type": "stream",
          "text": [
            "Extracting data/FashionMNIST/raw/t10k-labels-idx1-ubyte.gz to data/FashionMNIST/raw\n",
            "\n"
          ]
        },
        {
          "name": "stderr",
          "output_type": "stream",
          "text": [
            "\n"
          ]
        }
      ],
      "source": [
        "from torchvision import datasets, transforms\n",
        "transform = transforms.Compose([\n",
        "     transforms.ToTensor()\n",
        " ])\n",
        "train_data = datasets.FashionMNIST(root='data', train=True, download=True , transform=transform)\n",
        "test_data = datasets.FashionMNIST(root='data', train=False, download=True, transform=transform)\n",
        "\n",
        "train_loader = torch.utils.data.DataLoader(train_data, batch_size=64, shuffle=True)\n",
        "test_loader = torch.utils.data.DataLoader(test_data, batch_size=64, shuffle=False)"
      ]
    },
    {
      "cell_type": "code",
      "execution_count": 16,
      "metadata": {
        "colab": {
          "base_uri": "https://localhost:8080/"
        },
        "id": "Rwq4tbFPsqrl",
        "outputId": "bb66da3e-c569-46f9-ff4b-48f8169a217e"
      },
      "outputs": [
        {
          "name": "stdout",
          "output_type": "stream",
          "text": [
            "predict:  tensor(9)\n",
            "actual:  tensor(9)\n",
            "predict:  tensor(1)\n",
            "actual:  tensor(1)\n",
            "predict:  tensor(1)\n",
            "actual:  tensor(1)\n",
            "predict:  tensor(0)\n",
            "actual:  tensor(1)\n",
            "predict:  tensor(8)\n",
            "actual:  tensor(8)\n",
            "predict:  tensor(2)\n",
            "actual:  tensor(8)\n",
            "predict:  tensor(5)\n",
            "actual:  tensor(5)\n",
            "predict:  tensor(9)\n",
            "actual:  tensor(9)\n",
            "predict:  tensor(6)\n",
            "actual:  tensor(6)\n",
            "predict:  tensor(9)\n",
            "actual:  tensor(9)\n",
            "predict:  tensor(7)\n",
            "actual:  tensor(7)\n",
            "predict:  tensor(9)\n",
            "actual:  tensor(9)\n",
            "predict:  tensor(8)\n",
            "actual:  tensor(8)\n",
            "predict:  tensor(8)\n",
            "actual:  tensor(8)\n",
            "predict:  tensor(5)\n",
            "actual:  tensor(5)\n",
            "predict:  tensor(4)\n",
            "actual:  tensor(3)\n",
            "predict:  tensor(7)\n",
            "actual:  tensor(7)\n",
            "predict:  tensor(3)\n",
            "actual:  tensor(3)\n",
            "predict:  tensor(0)\n",
            "actual:  tensor(6)\n",
            "predict:  tensor(0)\n",
            "actual:  tensor(0)\n",
            "predict:  tensor(2)\n",
            "actual:  tensor(2)\n",
            "predict:  tensor(8)\n",
            "actual:  tensor(8)\n",
            "predict:  tensor(6)\n",
            "actual:  tensor(4)\n",
            "predict:  tensor(8)\n",
            "actual:  tensor(8)\n",
            "predict:  tensor(9)\n",
            "actual:  tensor(9)\n",
            "predict:  tensor(7)\n",
            "actual:  tensor(7)\n",
            "predict:  tensor(1)\n",
            "actual:  tensor(1)\n",
            "predict:  tensor(6)\n",
            "actual:  tensor(6)\n",
            "predict:  tensor(4)\n",
            "actual:  tensor(4)\n",
            "predict:  tensor(2)\n",
            "actual:  tensor(4)\n",
            "predict:  tensor(3)\n",
            "actual:  tensor(3)\n",
            "predict:  tensor(2)\n",
            "actual:  tensor(2)\n",
            "predict:  tensor(7)\n",
            "actual:  tensor(7)\n",
            "predict:  tensor(1)\n",
            "actual:  tensor(1)\n",
            "predict:  tensor(3)\n",
            "actual:  tensor(3)\n",
            "predict:  tensor(5)\n",
            "actual:  tensor(5)\n",
            "predict:  tensor(8)\n",
            "actual:  tensor(8)\n",
            "predict:  tensor(4)\n",
            "actual:  tensor(4)\n",
            "predict:  tensor(9)\n",
            "actual:  tensor(9)\n",
            "predict:  tensor(3)\n",
            "actual:  tensor(3)\n",
            "predict:  tensor(1)\n",
            "actual:  tensor(1)\n",
            "predict:  tensor(2)\n",
            "actual:  tensor(2)\n",
            "predict:  tensor(6)\n",
            "actual:  tensor(3)\n",
            "predict:  tensor(2)\n",
            "actual:  tensor(6)\n",
            "predict:  tensor(9)\n",
            "actual:  tensor(9)\n",
            "predict:  tensor(6)\n",
            "actual:  tensor(6)\n",
            "predict:  tensor(1)\n",
            "actual:  tensor(1)\n",
            "predict:  tensor(6)\n",
            "actual:  tensor(8)\n",
            "predict:  tensor(5)\n",
            "actual:  tensor(5)\n",
            "predict:  tensor(7)\n",
            "actual:  tensor(7)\n",
            "predict:  tensor(5)\n",
            "actual:  tensor(5)\n",
            "predict:  tensor(0)\n",
            "actual:  tensor(0)\n",
            "predict:  tensor(3)\n",
            "actual:  tensor(3)\n",
            "predict:  tensor(2)\n",
            "actual:  tensor(2)\n",
            "predict:  tensor(2)\n",
            "actual:  tensor(2)\n",
            "predict:  tensor(5)\n",
            "actual:  tensor(5)\n",
            "predict:  tensor(4)\n",
            "actual:  tensor(4)\n",
            "predict:  tensor(2)\n",
            "actual:  tensor(2)\n",
            "predict:  tensor(2)\n",
            "actual:  tensor(2)\n",
            "predict:  tensor(0)\n",
            "actual:  tensor(0)\n",
            "predict:  tensor(1)\n",
            "actual:  tensor(1)\n",
            "predict:  tensor(5)\n",
            "actual:  tensor(5)\n",
            "predict:  tensor(9)\n",
            "actual:  tensor(9)\n",
            "predict:  tensor(0)\n",
            "actual:  tensor(0)\n",
            "predict:  tensor(4)\n",
            "actual:  tensor(4)\n",
            "predict:  tensor(2)\n",
            "actual:  tensor(2)\n",
            "predict:  tensor(0)\n",
            "actual:  tensor(0)\n",
            "predict:  tensor(7)\n",
            "actual:  tensor(7)\n",
            "predict:  tensor(9)\n",
            "actual:  tensor(9)\n",
            "predict:  tensor(4)\n",
            "actual:  tensor(6)\n",
            "predict:  tensor(1)\n",
            "actual:  tensor(1)\n",
            "predict:  tensor(3)\n",
            "actual:  tensor(3)\n",
            "predict:  tensor(4)\n",
            "actual:  tensor(4)\n",
            "predict:  tensor(2)\n",
            "actual:  tensor(6)\n",
            "predict:  tensor(3)\n",
            "actual:  tensor(3)\n",
            "predict:  tensor(9)\n",
            "actual:  tensor(9)\n",
            "predict:  tensor(5)\n",
            "actual:  tensor(5)\n",
            "predict:  tensor(3)\n",
            "actual:  tensor(3)\n",
            "predict:  tensor(1)\n",
            "actual:  tensor(1)\n",
            "predict:  tensor(5)\n",
            "actual:  tensor(5)\n",
            "predict:  tensor(4)\n",
            "actual:  tensor(4)\n",
            "predict:  tensor(2)\n",
            "actual:  tensor(6)\n",
            "predict:  tensor(3)\n",
            "actual:  tensor(6)\n",
            "predict:  tensor(4)\n",
            "actual:  tensor(4)\n",
            "predict:  tensor(8)\n",
            "actual:  tensor(8)\n",
            "predict:  tensor(0)\n",
            "actual:  tensor(0)\n",
            "predict:  tensor(6)\n",
            "actual:  tensor(6)\n",
            "predict:  tensor(4)\n",
            "actual:  tensor(2)\n",
            "predict:  tensor(8)\n",
            "actual:  tensor(8)\n",
            "predict:  tensor(2)\n",
            "actual:  tensor(2)\n",
            "predict:  tensor(1)\n",
            "actual:  tensor(1)\n",
            "predict:  tensor(2)\n",
            "actual:  tensor(2)\n",
            "predict:  tensor(5)\n",
            "actual:  tensor(5)\n",
            "predict:  tensor(6)\n",
            "actual:  tensor(6)\n",
            "predict:  tensor(4)\n",
            "actual:  tensor(4)\n",
            "predict:  tensor(1)\n",
            "actual:  tensor(1)\n",
            "predict:  tensor(1)\n",
            "actual:  tensor(1)\n",
            "predict:  tensor(1)\n",
            "actual:  tensor(1)\n",
            "predict:  tensor(1)\n",
            "actual:  tensor(1)\n",
            "predict:  tensor(1)\n",
            "actual:  tensor(1)\n",
            "predict:  tensor(4)\n",
            "actual:  tensor(4)\n",
            "predict:  tensor(3)\n",
            "actual:  tensor(4)\n",
            "predict:  tensor(8)\n",
            "actual:  tensor(8)\n",
            "predict:  tensor(5)\n",
            "actual:  tensor(5)\n",
            "predict:  tensor(1)\n",
            "actual:  tensor(1)\n",
            "predict:  tensor(4)\n",
            "actual:  tensor(2)\n",
            "predict:  tensor(3)\n",
            "actual:  tensor(3)\n",
            "predict:  tensor(2)\n",
            "actual:  tensor(2)\n",
            "predict:  tensor(7)\n",
            "actual:  tensor(7)\n",
            "predict:  tensor(5)\n",
            "actual:  tensor(5)\n",
            "predict:  tensor(6)\n",
            "actual:  tensor(6)\n",
            "predict:  tensor(9)\n",
            "actual:  tensor(9)\n",
            "predict:  tensor(8)\n",
            "actual:  tensor(8)\n",
            "predict:  tensor(5)\n",
            "actual:  tensor(5)\n",
            "predict:  tensor(6)\n",
            "actual:  tensor(6)\n",
            "predict:  tensor(3)\n",
            "actual:  tensor(3)\n",
            "predict:  tensor(2)\n",
            "actual:  tensor(4)\n",
            "predict:  tensor(9)\n",
            "actual:  tensor(9)\n",
            "predict:  tensor(2)\n",
            "actual:  tensor(2)\n",
            "predict:  tensor(9)\n",
            "actual:  tensor(9)\n",
            "predict:  tensor(0)\n",
            "actual:  tensor(0)\n",
            "predict:  tensor(1)\n",
            "actual:  tensor(1)\n",
            "predict:  tensor(1)\n",
            "actual:  tensor(1)\n",
            "predict:  tensor(5)\n",
            "actual:  tensor(5)\n",
            "predict:  tensor(7)\n",
            "actual:  tensor(9)\n",
            "predict:  tensor(7)\n",
            "actual:  tensor(7)\n",
            "predict:  tensor(1)\n",
            "actual:  tensor(1)\n",
            "predict:  tensor(6)\n",
            "actual:  tensor(0)\n",
            "predict:  tensor(9)\n",
            "actual:  tensor(9)\n",
            "predict:  tensor(6)\n",
            "actual:  tensor(6)\n",
            "predict:  tensor(8)\n",
            "actual:  tensor(8)\n",
            "predict:  tensor(2)\n",
            "actual:  tensor(2)\n",
            "predict:  tensor(9)\n",
            "actual:  tensor(9)\n",
            "predict:  tensor(4)\n",
            "actual:  tensor(4)\n",
            "predict:  tensor(3)\n",
            "actual:  tensor(3)\n",
            "predict:  tensor(9)\n",
            "actual:  tensor(9)\n",
            "predict:  tensor(9)\n",
            "actual:  tensor(9)\n",
            "predict:  tensor(6)\n",
            "actual:  tensor(1)\n",
            "predict:  tensor(6)\n",
            "actual:  tensor(0)\n",
            "predict:  tensor(0)\n",
            "actual:  tensor(3)\n",
            "predict:  tensor(4)\n",
            "actual:  tensor(4)\n",
            "predict:  tensor(4)\n",
            "actual:  tensor(4)\n",
            "predict:  tensor(5)\n",
            "actual:  tensor(5)\n",
            "predict:  tensor(7)\n",
            "actual:  tensor(7)\n",
            "predict:  tensor(5)\n",
            "actual:  tensor(5)\n",
            "predict:  tensor(6)\n",
            "actual:  tensor(6)\n",
            "predict:  tensor(2)\n",
            "actual:  tensor(4)\n",
            "predict:  tensor(5)\n",
            "actual:  tensor(5)\n",
            "predict:  tensor(9)\n",
            "actual:  tensor(9)\n",
            "predict:  tensor(8)\n",
            "actual:  tensor(8)\n",
            "predict:  tensor(2)\n",
            "actual:  tensor(2)\n",
            "predict:  tensor(2)\n",
            "actual:  tensor(2)\n",
            "predict:  tensor(1)\n",
            "actual:  tensor(1)\n",
            "predict:  tensor(3)\n",
            "actual:  tensor(3)\n",
            "predict:  tensor(8)\n",
            "actual:  tensor(8)\n",
            "predict:  tensor(8)\n",
            "actual:  tensor(8)\n",
            "predict:  tensor(3)\n",
            "actual:  tensor(3)\n"
          ]
        }
      ],
      "source": [
        "\n",
        "data_iter = iter(test_loader)\n",
        "for images, labels in test_loader:\n",
        "        outputs = MyModel(images)\n",
        "        _, predicted = torch.max(outputs, 1)\n",
        "        print(\"predict: \", next(iter(predicted)))\n",
        "        print(\"actual: \", next(iter(labels)))\n"
      ]
    }
  ],
  "metadata": {
    "colab": {
      "provenance": []
    },
    "kernelspec": {
      "display_name": "Python 3",
      "name": "python3"
    },
    "language_info": {
      "name": "python"
    }
  },
  "nbformat": 4,
  "nbformat_minor": 0
}
