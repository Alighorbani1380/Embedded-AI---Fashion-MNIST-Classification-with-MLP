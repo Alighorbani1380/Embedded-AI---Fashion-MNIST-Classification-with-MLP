{
  "nbformat": 4,
  "nbformat_minor": 0,
  "metadata": {
    "colab": {
      "provenance": [],
      "gpuType": "T4"
    },
    "kernelspec": {
      "name": "python3",
      "display_name": "Python 3"
    },
    "language_info": {
      "name": "python"
    },
    "accelerator": "GPU"
  },
  "cells": [
    {
      "cell_type": "code",
      "execution_count": null,
      "metadata": {
        "id": "vUNROY_MVaXy"
      },
      "outputs": [],
      "source": [
        "import torch\n",
        "import torch.nn as nn\n",
        "import torch.optim as optim\n",
        "from torchvision import datasets, transforms\n"
      ]
    },
    {
      "cell_type": "code",
      "source": [
        "\n",
        "transform = transforms.Compose([transforms.ToTensor()])\n",
        "\n",
        "DataForTrain= datasets.FashionMNIST(root='data', train=True, download=True , transform=transform)\n",
        "DataForTest = datasets.FashionMNIST(root='data', train=False, download=True, transform=transform)\n",
        "\n",
        "train = torch.utils.data.DataLoader(DataForTrain, batch_size=64, shuffle=True)\n",
        "test = torch.utils.data.DataLoader(DataForTest, batch_size=64, shuffle=False)\n"
      ],
      "metadata": {
        "id": "mrZe0fBRVdIt"
      },
      "execution_count": null,
      "outputs": []
    },
    {
      "cell_type": "code",
      "source": [
        "class MLP(nn.Module):\n",
        "    def __init__(self):\n",
        "        super(MLP, self).__init__()\n",
        "        self.fc1 = nn.Linear(28 * 28, 128)\n",
        "        self.fc2 = nn.Linear(128, 10)\n",
        "\n",
        "    def forward(self, x):\n",
        "        x = x.view(-1, 28 * 28)\n",
        "        x = torch.relu(self.fc1(x))\n",
        "        x = self.fc2(x)\n",
        "        return x\n"
      ],
      "metadata": {
        "id": "0a5DS6AsVe-W"
      },
      "execution_count": null,
      "outputs": []
    },
    {
      "cell_type": "code",
      "source": [
        "model = MLP()\n",
        "criterion = nn.CrossEntropyLoss()\n",
        "optimizer = optim.Adam(model.parameters(), lr=0.001)\n",
        "epochs = 60\n",
        "\n",
        "for epoch in range(epochs):\n",
        "    running_loss = 0.0\n",
        "    for images, labels in train:\n",
        "        optimizer.zero_grad()\n",
        "        outputs = model(images)\n",
        "        loss = criterion(outputs, labels)\n",
        "        loss.backward()\n",
        "        optimizer.step()\n",
        "        running_loss += loss.item()\n",
        "\n",
        "    print(f\"Epoch {epoch+1}, Loss: {running_loss/len(train)}\")\n"
      ],
      "metadata": {
        "colab": {
          "base_uri": "https://localhost:8080/"
        },
        "id": "G_v2HAc0VhU9",
        "outputId": "63bea46d-8e01-4730-ecde-64581ce4a1a4"
      },
      "execution_count": null,
      "outputs": [
        {
          "output_type": "stream",
          "name": "stdout",
          "text": [
            "Epoch 1, Loss: 0.5484218448877081\n",
            "Epoch 2, Loss: 0.4008812434129369\n",
            "Epoch 3, Loss: 0.35907564428188143\n",
            "Epoch 4, Loss: 0.3307599258988397\n",
            "Epoch 5, Loss: 0.31144320860759284\n",
            "Epoch 6, Loss: 0.2968851038610249\n",
            "Epoch 7, Loss: 0.28189774736889134\n",
            "Epoch 8, Loss: 0.2731216566792048\n",
            "Epoch 9, Loss: 0.26160588045554883\n",
            "Epoch 10, Loss: 0.25218651894885086\n",
            "Epoch 11, Loss: 0.24481268648082005\n",
            "Epoch 12, Loss: 0.2373936007510243\n",
            "Epoch 13, Loss: 0.22951286343305605\n",
            "Epoch 14, Loss: 0.2229154954062723\n",
            "Epoch 15, Loss: 0.21650113781759225\n",
            "Epoch 16, Loss: 0.2099301764197441\n",
            "Epoch 17, Loss: 0.20324408402765737\n",
            "Epoch 18, Loss: 0.20029433813494152\n",
            "Epoch 19, Loss: 0.1951996554920414\n",
            "Epoch 20, Loss: 0.18943500590286275\n",
            "Epoch 21, Loss: 0.18566586397516766\n",
            "Epoch 22, Loss: 0.17866089396766507\n",
            "Epoch 23, Loss: 0.17703305573653438\n",
            "Epoch 24, Loss: 0.17296153326222954\n",
            "Epoch 25, Loss: 0.16773337449854625\n",
            "Epoch 26, Loss: 0.16413338569952035\n",
            "Epoch 27, Loss: 0.1610862218292315\n",
            "Epoch 28, Loss: 0.15699533581622502\n",
            "Epoch 29, Loss: 0.15394649544218456\n",
            "Epoch 30, Loss: 0.1511513018674815\n",
            "Epoch 31, Loss: 0.14756851462420942\n",
            "Epoch 32, Loss: 0.14480006669773093\n",
            "Epoch 33, Loss: 0.14165461123950762\n",
            "Epoch 34, Loss: 0.13800660408050347\n",
            "Epoch 35, Loss: 0.13651006274632235\n",
            "Epoch 36, Loss: 0.13406675714435481\n",
            "Epoch 37, Loss: 0.12998709474195805\n",
            "Epoch 38, Loss: 0.1274318931235084\n",
            "Epoch 39, Loss: 0.12473805676867712\n",
            "Epoch 40, Loss: 0.12540656461743815\n",
            "Epoch 41, Loss: 0.12128130189661405\n",
            "Epoch 42, Loss: 0.1177711658346564\n",
            "Epoch 43, Loss: 0.11431609203558424\n",
            "Epoch 44, Loss: 0.11505877427153115\n",
            "Epoch 45, Loss: 0.11163023883290192\n",
            "Epoch 46, Loss: 0.10944619950558394\n",
            "Epoch 47, Loss: 0.10921255120439634\n",
            "Epoch 48, Loss: 0.10653709587174406\n",
            "Epoch 49, Loss: 0.10421140404340666\n",
            "Epoch 50, Loss: 0.10037623547903224\n",
            "Epoch 51, Loss: 0.10049933146760821\n",
            "Epoch 52, Loss: 0.09891082115991633\n",
            "Epoch 53, Loss: 0.09869608653189023\n",
            "Epoch 54, Loss: 0.09509845634997845\n",
            "Epoch 55, Loss: 0.09452347065518692\n",
            "Epoch 56, Loss: 0.08999172704461128\n",
            "Epoch 57, Loss: 0.09225078078526963\n",
            "Epoch 58, Loss: 0.08860894195588508\n",
            "Epoch 59, Loss: 0.0884331760090043\n",
            "Epoch 60, Loss: 0.08594738018276023\n"
          ]
        }
      ]
    },
    {
      "cell_type": "code",
      "source": [
        "correct = 0\n",
        "total = 0\n",
        "with torch.no_grad():\n",
        "    for images, labels in test:\n",
        "        outputs = model(images)\n",
        "        _, predicted = torch.max(outputs, 1)\n",
        "        total += labels.size(0)\n",
        "        correct += (predicted == labels).sum().item()\n",
        "\n",
        "accuracy = 100 * correct / total\n",
        "print(f'Accuracy on test data: {accuracy:.2f}%')"
      ],
      "metadata": {
        "colab": {
          "base_uri": "https://localhost:8080/"
        },
        "id": "pzyW-lUlVkxh",
        "outputId": "15da6fa8-b174-4863-9adb-2f5088bc0a8f"
      },
      "execution_count": null,
      "outputs": [
        {
          "output_type": "stream",
          "name": "stdout",
          "text": [
            "Accuracy on test data: 88.88%\n"
          ]
        }
      ]
    },
    {
      "cell_type": "code",
      "source": [
        "torch.save(model.state_dict(), 'mlp_model_weights.pth')"
      ],
      "metadata": {
        "id": "9E-9-1YDp2kW"
      },
      "execution_count": null,
      "outputs": []
    }
  ]
}