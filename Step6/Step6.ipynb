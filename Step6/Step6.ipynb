{
  "nbformat": 4,
  "nbformat_minor": 0,
  "metadata": {
    "colab": {
      "provenance": []
    },
    "kernelspec": {
      "name": "python3",
      "display_name": "Python 3"
    },
    "language_info": {
      "name": "python"
    }
  },
  "cells": [
    {
      "cell_type": "code",
      "source": [
        "import torch.nn as nn\n",
        "class MLP(nn.Module):\n",
        "    def __init__(self):\n",
        "        super(MLP, self).__init__()\n",
        "        self.fc1 = nn.Linear(28 * 28, 128)\n",
        "        self.fc2 = nn.Linear(128, 10)\n",
        "\n",
        "    def forward(self, x):\n",
        "        x = x.view(-1, 28 * 28)\n",
        "        x = torch.relu(self.fc1(x))\n",
        "        x = self.fc2(x)\n",
        "        return x\n"
      ],
      "metadata": {
        "id": "bG_qsmZO-FXk"
      },
      "execution_count": 1,
      "outputs": []
    },
    {
      "cell_type": "code",
      "source": [
        "def relu(x):\n",
        "    return torch.max(torch.zeros_like(x), x)\n"
      ],
      "metadata": {
        "id": "3mB5aC1SAkcG"
      },
      "execution_count": 2,
      "outputs": []
    },
    {
      "cell_type": "code",
      "source": [
        "def Mymodel(x):\n",
        "    x = x.view(-1, 28 * 28)\n",
        "    x = relu(x @ state_dict['fc1.weight'].T + state_dict['fc1.bias'])\n",
        "    x = x @ state_dict['fc2.weight'].T + state_dict['fc2.bias']\n",
        "\n",
        "    return x"
      ],
      "metadata": {
        "id": "e0mhKBW0_sGF"
      },
      "execution_count": 3,
      "outputs": []
    },
    {
      "cell_type": "code",
      "source": [
        "import torch\n",
        "model_with_layers = MLP()\n",
        "model_with_layers.load_state_dict(torch.load('mlp_model_weights.pth'))\n",
        "state_dict = torch.load('mlp_model_weights.pth')"
      ],
      "metadata": {
        "colab": {
          "base_uri": "https://localhost:8080/"
        },
        "id": "EPMGmRzD-Csm",
        "outputId": "af2f78b6-25e2-4463-9a76-09be9e62a38f"
      },
      "execution_count": 5,
      "outputs": [
        {
          "output_type": "stream",
          "name": "stderr",
          "text": [
            "<ipython-input-5-fcb69fb45a44>:3: FutureWarning: You are using `torch.load` with `weights_only=False` (the current default value), which uses the default pickle module implicitly. It is possible to construct malicious pickle data which will execute arbitrary code during unpickling (See https://github.com/pytorch/pytorch/blob/main/SECURITY.md#untrusted-models for more details). In a future release, the default value for `weights_only` will be flipped to `True`. This limits the functions that could be executed during unpickling. Arbitrary objects will no longer be allowed to be loaded via this mode unless they are explicitly allowlisted by the user via `torch.serialization.add_safe_globals`. We recommend you start setting `weights_only=True` for any use case where you don't have full control of the loaded file. Please open an issue on GitHub for any issues related to this experimental feature.\n",
            "  model_with_layers.load_state_dict(torch.load('mlp_model_weights.pth'))\n",
            "<ipython-input-5-fcb69fb45a44>:4: FutureWarning: You are using `torch.load` with `weights_only=False` (the current default value), which uses the default pickle module implicitly. It is possible to construct malicious pickle data which will execute arbitrary code during unpickling (See https://github.com/pytorch/pytorch/blob/main/SECURITY.md#untrusted-models for more details). In a future release, the default value for `weights_only` will be flipped to `True`. This limits the functions that could be executed during unpickling. Arbitrary objects will no longer be allowed to be loaded via this mode unless they are explicitly allowlisted by the user via `torch.serialization.add_safe_globals`. We recommend you start setting `weights_only=True` for any use case where you don't have full control of the loaded file. Please open an issue on GitHub for any issues related to this experimental feature.\n",
            "  state_dict = torch.load('mlp_model_weights.pth')\n"
          ]
        }
      ]
    },
    {
      "cell_type": "code",
      "source": [
        "def get_parameters(model):\n",
        "    total_params = 0\n",
        "    for name, param in model.named_parameters():\n",
        "            layer_params = param.numel()\n",
        "            total_params += layer_params\n",
        "            print(f\"{name}: {layer_params}\")\n",
        "\n",
        "    print(f\"Total: {total_params}\")\n",
        "\n",
        "print(\" Torch model:\")\n",
        "get_parameters(model_with_layers)\n",
        "\n"
      ],
      "metadata": {
        "colab": {
          "base_uri": "https://localhost:8080/"
        },
        "id": "iUnSn5-aNTRH",
        "outputId": "fd4237e4-d385-442f-bdb2-57d5cde9a106"
      },
      "execution_count": 9,
      "outputs": [
        {
          "output_type": "stream",
          "name": "stdout",
          "text": [
            " Torch model:\n",
            "fc1.weight: 100352\n",
            "fc1.bias: 128\n",
            "fc2.weight: 1280\n",
            "fc2.bias: 10\n",
            "Total: 101770\n"
          ]
        }
      ]
    },
    {
      "cell_type": "code",
      "source": [
        "def get_parameters2(state_dict):\n",
        "    total_params = 0\n",
        "\n",
        "    for name, param in state_dict.items():\n",
        "        layer_params = param.numel()\n",
        "        total_params += layer_params\n",
        "        print(f\"{name}: {layer_params}\")\n",
        "\n",
        "    print(f\"Total: {total_params}\")\n",
        "print(\"my model\")\n",
        "get_parameters2(state_dict)\n",
        "\n"
      ],
      "metadata": {
        "colab": {
          "base_uri": "https://localhost:8080/"
        },
        "id": "rF-CuvD_BL9A",
        "outputId": "546267ca-d5ea-4b90-8edd-598d8bbf2d57"
      },
      "execution_count": 10,
      "outputs": [
        {
          "output_type": "stream",
          "name": "stdout",
          "text": [
            "my model\n",
            "fc1.weight: 100352\n",
            "fc1.bias: 128\n",
            "fc2.weight: 1280\n",
            "fc2.bias: 10\n",
            "Total: 101770\n"
          ]
        }
      ]
    }
  ]
}